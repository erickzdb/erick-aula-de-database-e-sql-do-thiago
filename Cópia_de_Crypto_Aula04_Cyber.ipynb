{
  "nbformat": 4,
  "nbformat_minor": 0,
  "metadata": {
    "colab": {
      "provenance": [],
      "include_colab_link": true
    },
    "kernelspec": {
      "name": "python3",
      "display_name": "Python 3"
    },
    "language_info": {
      "name": "python"
    }
  },
  "cells": [
    {
      "cell_type": "markdown",
      "metadata": {
        "id": "view-in-github",
        "colab_type": "text"
      },
      "source": [
        "<a href=\"https://colab.research.google.com/github/erickzdb/erick-aula-de-database-e-sql-do-thiago/blob/main/C%C3%B3pia_de_Crypto_Aula04_Cyber.ipynb\" target=\"_parent\"><img src=\"https://colab.research.google.com/assets/colab-badge.svg\" alt=\"Open In Colab\"/></a>"
      ]
    },
    {
      "cell_type": "code",
      "execution_count": null,
      "metadata": {
        "id": "VamCBcAILKb_"
      },
      "outputs": [],
      "source": [
        "from cryptography.fernet import Fernet"
      ]
    },
    {
      "cell_type": "code",
      "source": [
        "print(\"Simétrica com AES e Ferbet\")"
      ],
      "metadata": {
        "colab": {
          "base_uri": "https://localhost:8080/"
        },
        "id": "9fHMkXgxMMbP",
        "outputId": "d612139a-f144-4e33-c530-e9fe673b0b14"
      },
      "execution_count": null,
      "outputs": [
        {
          "output_type": "stream",
          "name": "stdout",
          "text": [
            "Simétrica com AES e Ferbet\n"
          ]
        }
      ]
    },
    {
      "cell_type": "code",
      "source": [
        "key = Fernet.generate_key()\n",
        "cipher = Fernet(key)"
      ],
      "metadata": {
        "id": "jeucCkDZMTGO"
      },
      "execution_count": null,
      "outputs": []
    },
    {
      "cell_type": "code",
      "source": [
        "mensagem = \"Essa é uma mensagem confidencial para meus alunos.\"\n",
        "mensagem_bytes = mensagem.encode()"
      ],
      "metadata": {
        "id": "fHOIuAGTMfDn"
      },
      "execution_count": null,
      "outputs": []
    },
    {
      "cell_type": "code",
      "source": [
        "mensagem_criptografada = cipher.encrypt(mensagem_bytes)\n",
        "print(\"Mensagem criptografada:\", mensagem_criptografada)"
      ],
      "metadata": {
        "colab": {
          "base_uri": "https://localhost:8080/"
        },
        "id": "HwWgSSd0MviG",
        "outputId": "b52dd07d-7b03-47bf-ac69-864af4ef98e4"
      },
      "execution_count": null,
      "outputs": [
        {
          "output_type": "stream",
          "name": "stdout",
          "text": [
            "Mensagem criptografada: b'gAAAAABowMWkNxF2wCTJdr4vCHA4CMBL5O7COgo7hHhWxtIQVhMowiENvK42jBC9K_L3Bumlb0SdbyGNTtiuKGu1QjyqfOmeZ9zPv1CUKZy73EImAlSJEkswMWmFoXBzH8YctTyL4afpELgCsAkxhnYn5GnascACGA=='\n"
          ]
        }
      ]
    },
    {
      "cell_type": "code",
      "source": [
        "mensagem_original = cipher.decrypt(mensagem_criptografada)\n",
        "print(\"Mensagem descriptografada:\", mensagem_original.decode())"
      ],
      "metadata": {
        "colab": {
          "base_uri": "https://localhost:8080/"
        },
        "id": "jyjtTYpmNPZL",
        "outputId": "caac968b-9f2d-4930-f4bc-6c23801e1fbc"
      },
      "execution_count": null,
      "outputs": [
        {
          "output_type": "stream",
          "name": "stdout",
          "text": [
            "Mensagem descriptografada: Essa é uma mensagem confidencial para meus alunos.\n"
          ]
        }
      ]
    },
    {
      "cell_type": "code",
      "source": [
        "print (\"Criptografia Assimétrica com RSA\")"
      ],
      "metadata": {
        "colab": {
          "base_uri": "https://localhost:8080/"
        },
        "id": "OzhCRg5HO0VA",
        "outputId": "c5684799-5502-4ff3-e9f5-aaa77f82cfb1"
      },
      "execution_count": null,
      "outputs": [
        {
          "output_type": "stream",
          "name": "stdout",
          "text": [
            "Criptografia Assimétrica com RSA\n"
          ]
        }
      ]
    },
    {
      "cell_type": "code",
      "source": [
        "import rsa"
      ],
      "metadata": {
        "id": "AJeHwCt5O-Bp"
      },
      "execution_count": null,
      "outputs": []
    },
    {
      "cell_type": "code",
      "source": [
        "(public_key, private_key) = rsa.newkeys(512)"
      ],
      "metadata": {
        "id": "4TkvbmqiPMHz"
      },
      "execution_count": null,
      "outputs": []
    },
    {
      "cell_type": "code",
      "source": [
        "mensagem = \"Mensagem Protegida PELA TURMA\"\n",
        "mensagem_bytes = mensagem.encode()"
      ],
      "metadata": {
        "id": "NttThDonPYr9"
      },
      "execution_count": null,
      "outputs": []
    },
    {
      "cell_type": "code",
      "source": [
        "  mensagem_criptografada = rsa.encrypt(mensagem_bytes, public_key)\n",
        "  print(\"Mensagem criptografada (RSA):\", mensagem_criptografada)"
      ],
      "metadata": {
        "colab": {
          "base_uri": "https://localhost:8080/"
        },
        "id": "-cppmywEPlWP",
        "outputId": "7acc3b9f-4515-43a8-96a9-9cac8d89420d"
      },
      "execution_count": null,
      "outputs": [
        {
          "output_type": "stream",
          "name": "stdout",
          "text": [
            "Mensagem criptografada (RSA): b'\\x83cy\\xabp \\x82\\x19i#\\xbc\\x05\\x92(\\x98\\x06\\xe3\\xc3\"\\x8aLc\\xe9Z%\\x94;a\\xb4=S\\xc0\\xa2\\xce|h?m\\x8f\\x8b\\x0b? \\xf4\\xd5\\xb0\\x08\\xe5\\xe0\\xeb\\xe2\\x0b3\\x07\\xcd=\\tvt{\\x80J?;'\n"
          ]
        }
      ]
    },
    {
      "cell_type": "code",
      "source": [
        "mensagem_original = rsa.decrypt(mensagem_criptografada, private_key)\n",
        "print(\"Mensagem descriptografada (RSA):\", mensagem_original.decode())"
      ],
      "metadata": {
        "colab": {
          "base_uri": "https://localhost:8080/"
        },
        "id": "ONt2fT6VPxpd",
        "outputId": "fd574392-9a03-4c29-de46-927c0c1ca463"
      },
      "execution_count": null,
      "outputs": [
        {
          "output_type": "stream",
          "name": "stdout",
          "text": [
            "Mensagem descriptografada (RSA): Mensagem Protegida PELA TURMA\n"
          ]
        }
      ]
    },
    {
      "cell_type": "code",
      "source": [
        "print(\"\\n------------------------------------------\\n\")"
      ],
      "metadata": {
        "colab": {
          "base_uri": "https://localhost:8080/"
        },
        "id": "mzwsJj5jP_aA",
        "outputId": "786e1a0c-67b7-405a-a159-9af22b519224"
      },
      "execution_count": null,
      "outputs": [
        {
          "output_type": "stream",
          "name": "stdout",
          "text": [
            "\n",
            "------------------------------------------\n",
            "\n"
          ]
        }
      ]
    },
    {
      "cell_type": "code",
      "source": [
        "print (\"Hash com Sha-256 e MD5\")"
      ],
      "metadata": {
        "colab": {
          "base_uri": "https://localhost:8080/"
        },
        "id": "7JGsHSL5QEel",
        "outputId": "4781ca39-ee6f-4ac2-f84f-7e36113f227f"
      },
      "execution_count": null,
      "outputs": [
        {
          "output_type": "stream",
          "name": "stdout",
          "text": [
            "Hash com Sha-256 e MD5\n"
          ]
        }
      ]
    },
    {
      "cell_type": "code",
      "source": [
        "import hashlib"
      ],
      "metadata": {
        "id": "PRDF1IFuQLj-"
      },
      "execution_count": null,
      "outputs": []
    },
    {
      "cell_type": "code",
      "source": [
        "texto = \"senha123\""
      ],
      "metadata": {
        "id": "WKo2s7khQVC9"
      },
      "execution_count": null,
      "outputs": []
    },
    {
      "cell_type": "code",
      "source": [
        "sha256 = hashlib.sha256(texto.encode()).hexdigest()\n",
        "print(\"Hash SHA-256\", sha256)"
      ],
      "metadata": {
        "colab": {
          "base_uri": "https://localhost:8080/"
        },
        "id": "wfTZszajQZK_",
        "outputId": "a8cbe224-4d75-49d7-d82b-5dc406ba926b"
      },
      "execution_count": null,
      "outputs": [
        {
          "output_type": "stream",
          "name": "stdout",
          "text": [
            "Hash SHA-256 469a239a4e90894f02afc07d7aadb29d766b425d198ecd996bc10b3144c5c9b2\n"
          ]
        }
      ]
    },
    {
      "cell_type": "code",
      "source": [
        "md5 = hashlib.md5(texto.encode()).hexdigest()\n",
        "print(\"Hash MD5\", md5)"
      ],
      "metadata": {
        "colab": {
          "base_uri": "https://localhost:8080/"
        },
        "id": "Nfb4oEihQy2U",
        "outputId": "9e1c5991-0d73-47c1-c426-0e034454ee87"
      },
      "execution_count": null,
      "outputs": [
        {
          "output_type": "stream",
          "name": "stdout",
          "text": [
            "Hash MD5 fca72ba3c5b8ffd6fd5f9d67ea7321c7\n"
          ]
        }
      ]
    },
    {
      "cell_type": "code",
      "source": [
        "texto_modificafo = \"senha1234\"\n",
        "sha256_mod = hashlib.sha256(texto_modificafo.encode()).hexdigest()\n",
        "print(\"Hash SHA-256 modificado\", sha256_mod)\n",
        "\n",
        "md5 = hashlib.md5(texto_modificafo.encode()).hexdigest()\n",
        "print(\"Hash MD5\", md5)"
      ],
      "metadata": {
        "colab": {
          "base_uri": "https://localhost:8080/"
        },
        "id": "fEp2xOAmRAxT",
        "outputId": "f75762bd-1d4a-484d-a166-afbe609c35e4"
      },
      "execution_count": null,
      "outputs": [
        {
          "output_type": "stream",
          "name": "stdout",
          "text": [
            "Hash SHA-256 modificado 2c70dfbc967bd610fc7fbc6dfef0708a99d6be1fc44be3dffa47f0dde132442b\n",
            "Hash MD5 732002cec7aeb7987bde842b9e00ee3b\n"
          ]
        }
      ]
    }
  ]
}